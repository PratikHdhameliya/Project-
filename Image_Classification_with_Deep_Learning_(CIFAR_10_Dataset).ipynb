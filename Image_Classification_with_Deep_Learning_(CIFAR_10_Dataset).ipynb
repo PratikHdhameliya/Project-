{
  "cells": [
    {
      "cell_type": "markdown",
      "metadata": {
        "id": "view-in-github",
        "colab_type": "text"
      },
      "source": [
        "<a href=\"https://colab.research.google.com/github/PratikHdhameliya/Projects/blob/project/Image_Classification_with_Deep_Learning_(CIFAR_10_Dataset).ipynb\" target=\"_parent\"><img src=\"https://colab.research.google.com/assets/colab-badge.svg\" alt=\"Open In Colab\"/></a>"
      ]
    },
    {
      "cell_type": "markdown",
      "source": [
        "\n",
        "\n",
        "*   Built and optimized Logistic Regression (LR), Multi-Layer Perceptron (MLP), and Convolutional Neural Network (CNN) models for image classification using the CIFAR-10 dataset.\n",
        "\n",
        "*   Applied data augmentation (random horizontal flips) and L2 regularization to enhance model generalization.\n",
        "*   Used PyTorch, Adam optimizer, and Cross-Entropy Loss for model training and optimization.\n",
        "\n",
        "\n",
        "*   Evaluated models through confusion matrices and visualized loss curves, achieving best accuracy with the CNN model."
      ],
      "metadata": {
        "id": "qbbt8gXHJ0da"
      }
    },
    {
      "cell_type": "code",
      "execution_count": 1,
      "metadata": {
        "colab": {
          "base_uri": "https://localhost:8080/"
        },
        "id": "-wzaVKlBSC2c",
        "outputId": "5595938d-671b-4bee-e078-00b2f54b0d7c"
      },
      "outputs": [
        {
          "output_type": "execute_result",
          "data": {
            "text/plain": [
              "<torch._C.Generator at 0x7c0628394970>"
            ]
          },
          "metadata": {},
          "execution_count": 1
        }
      ],
      "source": [
        "%matplotlib inline\n",
        "\n",
        "import matplotlib.pyplot as plt\n",
        "import numpy as np\n",
        "\n",
        "import torch\n",
        "import torch.nn as nn\n",
        "import torchvision.datasets as datasets\n",
        "import torchvision.transforms as transforms\n",
        "from torchvision.utils import make_grid\n",
        "from sklearn.metrics import confusion_matrix\n",
        "import seaborn as sns\n",
        "\n",
        "\n",
        "torch.manual_seed(42) # Set manual seed"
      ]
    },
    {
      "cell_type": "code",
      "execution_count": 2,
      "metadata": {
        "colab": {
          "base_uri": "https://localhost:8080/"
        },
        "id": "YXyhBwmUSMDb",
        "outputId": "146376db-dc4d-40c9-8f52-c87dc9b1bfed"
      },
      "outputs": [
        {
          "output_type": "stream",
          "name": "stdout",
          "text": [
            "Using device cuda:0\n"
          ]
        }
      ],
      "source": [
        "# DO NOT CHANGE\n",
        "use_cuda = True\n",
        "use_cuda = False if not use_cuda else torch.cuda.is_available()\n",
        "device = torch.device('cuda:0' if use_cuda else 'cpu')\n",
        "torch.cuda.get_device_name(device) if use_cuda else 'cpu'\n",
        "print('Using device', device)\n"
      ]
    },
    {
      "cell_type": "code",
      "execution_count": 3,
      "metadata": {
        "id": "oAd_By9wUQGj"
      },
      "outputs": [],
      "source": [
        "# Define the batch size for the data loaders\n",
        "batch_size = 256\n",
        "\n",
        "# Define the data augmentation(fliping half images of out dataset) and normalization transformations for the training set\n",
        "train_transforms = transforms.Compose([\n",
        "    transforms.RandomHorizontalFlip(p=0.5),  # Apply random horizontal flip with a probability of 0.5\n",
        "    transforms.ToTensor(),  # Convert images to tensor format\n",
        "    transforms.Normalize((0.4914, 0.4822, 0.4465), (0.2470, 0.2435, 0.2616))  # Normalize images with mean and std deviation of CIFAR-10 dataset\n",
        "])\n",
        "\n",
        "# Define the normalization transformation for the test set (no data augmentation)\n",
        "test_transforms = transforms.Compose([\n",
        "    transforms.ToTensor(),  # Convert images to tensor format\n",
        "    transforms.Normalize((0.4914, 0.4822, 0.4465), (0.2470, 0.2435, 0.2616))  # Normalize images with mean and std deviation of CIFAR-10 dataset\n",
        "])"
      ]
    },
    {
      "cell_type": "code",
      "execution_count": 4,
      "metadata": {
        "colab": {
          "base_uri": "https://localhost:8080/"
        },
        "id": "h8EL-Yx5UfnI",
        "outputId": "fd7cdb78-f066-4e92-e4e3-8b48f8b4548b"
      },
      "outputs": [
        {
          "output_type": "stream",
          "name": "stdout",
          "text": [
            "Downloading https://www.cs.toronto.edu/~kriz/cifar-10-python.tar.gz to ./data/cifar-10-python.tar.gz\n"
          ]
        },
        {
          "output_type": "stream",
          "name": "stderr",
          "text": [
            "100%|██████████| 170498071/170498071 [00:03<00:00, 46536132.05it/s]\n"
          ]
        },
        {
          "output_type": "stream",
          "name": "stdout",
          "text": [
            "Extracting ./data/cifar-10-python.tar.gz to ./data\n",
            "Files already downloaded and verified\n"
          ]
        }
      ],
      "source": [
        "# Load the data and transform the dataset\n",
        "\n",
        "train_dataset =  datasets.CIFAR10(root='./data', train=True, download=True, transform=train_transforms)\n",
        "test_dataset = datasets.CIFAR10(root='./data', train=False, download=True, transform=test_transforms)\n"
      ]
    },
    {
      "cell_type": "code",
      "execution_count": 5,
      "metadata": {
        "colab": {
          "base_uri": "https://localhost:8080/"
        },
        "id": "OC0lLxrnUdUU",
        "outputId": "06c84113-16a0-4712-c007-4b4bda5cf4ee"
      },
      "outputs": [
        {
          "output_type": "stream",
          "name": "stdout",
          "text": [
            "Mean1:  0.49139967861519607\n",
            "Mean2:  0.48215840839460783\n",
            "Mean3:  0.44653091444546567\n",
            "Std1:  0.24703223246328176\n",
            "Std2:  0.24348512800005648\n",
            "Std3:  0.26158784172796473\n"
          ]
        }
      ],
      "source": [
        "# You can verify the mean and standard deviation used in the normalization above by calculating the mean and std of the training dataset above.\n",
        "mean_train = np.mean(train_dataset.data, axis=(0,1,2))/255\n",
        "print('Mean1: ', mean_train[0])\n",
        "print('Mean2: ', mean_train[1])\n",
        "print('Mean3: ', mean_train[2])\n",
        "mean_test = np.std(train_dataset.data, axis=(0,1,2))/255\n",
        "print('Std1: ', mean_test[0])\n",
        "print('Std2: ', mean_test[1])\n",
        "print('Std3: ', mean_test[2])"
      ]
    },
    {
      "cell_type": "code",
      "execution_count": 6,
      "metadata": {
        "id": "RV48IcWKUtE6"
      },
      "outputs": [],
      "source": [
        "train_loader=torch.utils.data.DataLoader(dataset=train_dataset, batch_size=batch_size, shuffle=True)\n",
        "test_loader=torch.utils.data.DataLoader(dataset=test_dataset, batch_size=batch_size, shuffle=False)"
      ]
    },
    {
      "cell_type": "code",
      "execution_count": 7,
      "metadata": {
        "colab": {
          "base_uri": "https://localhost:8080/",
          "height": 707
        },
        "id": "Go35YG-xWLY2",
        "outputId": "ba3048fe-9b72-4a42-d68a-74dc411eaa39"
      },
      "outputs": [
        {
          "output_type": "stream",
          "name": "stderr",
          "text": [
            "WARNING:matplotlib.image:Clipping input data to the valid range for imshow with RGB data ([0..1] for floats or [0..255] for integers).\n"
          ]
        },
        {
          "output_type": "stream",
          "name": "stdout",
          "text": [
            "Labels:  tensor([6, 0, 4, 1, 2, 7, 9, 4, 7, 8, 4, 5, 6, 0, 4, 2, 0, 1, 6, 1, 4, 3, 2, 3,\n",
            "        2, 4, 0, 7, 5, 1, 8, 6, 3, 3, 7, 0, 4, 1, 7, 1, 3, 1, 1, 5, 6, 3, 7, 8,\n",
            "        2, 3, 4, 8, 2, 1, 5, 6, 9, 9, 6, 9, 8, 3, 4, 7, 8, 7, 0, 2, 5, 2, 5, 8,\n",
            "        6, 7, 4, 0, 5, 2, 0, 5, 1, 5, 5, 5, 1, 8, 6, 5, 7, 4, 9, 3, 2, 6, 6, 7,\n",
            "        0, 1, 2, 3, 4, 6, 5, 9, 3, 5, 8, 8, 2, 6, 5, 0, 0, 2, 2, 0, 4, 4, 5, 2,\n",
            "        8, 7, 4, 7, 2, 2, 0, 3, 9, 7, 9, 6, 6, 8, 4, 9, 4, 2, 6, 4, 3, 3, 6, 5,\n",
            "        1, 1, 5, 0, 3, 0, 0, 7, 2, 3, 9, 3, 6, 8, 7, 9, 9, 1, 6, 2, 1, 4, 2, 9,\n",
            "        5, 3, 0, 1, 8, 0, 7, 5, 5, 5, 7, 2, 3, 3, 5, 7, 2, 0, 3, 3, 3, 8, 5, 3,\n",
            "        5, 8, 3, 7, 5, 7, 2, 3, 3, 3, 6, 1, 5, 9, 1, 6, 8, 7, 3, 0, 8, 0, 4, 8,\n",
            "        1, 9, 3, 2, 8, 3, 7, 0, 8, 9, 2, 6, 8, 1, 8, 9, 2, 3, 0, 2, 1, 6, 3, 3,\n",
            "        4, 4, 5, 3, 8, 9, 7, 6, 8, 6, 1, 8, 3, 9, 8, 6])\n"
          ]
        },
        {
          "output_type": "display_data",
          "data": {
            "text/plain": [
              "<Figure size 1200x600 with 1 Axes>"
            ],
            "image/png": "[encoded data removed]"
          },
          "metadata": {}
        }
      ],
      "source": [
        "for images, labels in train_loader:\n",
        "        print(\"Labels: \", labels)\n",
        "        fig, ax = plt.subplots(figsize=(12, 6))\n",
        "        ax.set_xticks([]); ax.set_yticks([])\n",
        "        ax.imshow(make_grid(images[:16], nrow=4).permute(1, 2, 0))\n",
        "        break"
      ]
    },
    {
      "cell_type": "code",
      "execution_count": 8,
      "metadata": {
        "id": "NOWd5ys6W6Ri"
      },
      "outputs": [],
      "source": [
        "num_classes=10"
      ]
    },
    {
      "cell_type": "code",
      "execution_count": 9,
      "metadata": {
        "id": "UyhKKIJqW8Q8"
      },
      "outputs": [],
      "source": [
        "def accuracy(correct,total):\n",
        "    return correct/total"
      ]
    },
    {
      "cell_type": "code",
      "execution_count": 10,
      "metadata": {
        "id": "gISBXDWqSc_v"
      },
      "outputs": [],
      "source": [
        "def train(dataloader,optimizer,model,loss_fn):\n",
        "    model.train()\n",
        "\n",
        "    loss_save=[]\n",
        "\n",
        "    for data,target in dataloader:\n",
        "        data,target=data.to(device),target.to(device)\n",
        "\n",
        "        optimizer.zero_grad()\n",
        "        output=model(data)\n",
        "\n",
        "        loss=loss_fn(output,target)\n",
        "        loss_save.append(loss.item())\n",
        "\n",
        "        loss.backward()\n",
        "        optimizer.step()\n",
        "    return np.mean(loss_save)\n",
        "\n",
        "\n",
        "\n",
        "def validate(dataloader, model,loss_fn):\n",
        "    model.eval()\n",
        "\n",
        "    loss_save=[]\n",
        "\n",
        "    with torch.no_grad():\n",
        "         for data,target in dataloader:\n",
        "             data,target=data.to(device),target.to(device)\n",
        "\n",
        "             output=model.forward(data)\n",
        "\n",
        "\n",
        "             loss=loss_fn(output,target)\n",
        "             loss_save.append(loss.item())\n",
        "    return np.mean(loss_save)\n",
        "\n",
        "from tqdm import trange\n",
        "\n",
        "def runtraining (model, optimizer, loss_fn, device, num_epochs, train_loader, val_loader):\n",
        "    train_loss_save=[]\n",
        "    val_loss_save=[]\n",
        "\n",
        "    for epoch in trange(num_epochs, desc='Epoch'):\n",
        "        train_loss=train(train_loader,optimizer,model,loss_fn)\n",
        "        val_loss=validate(val_loader, model,loss_fn)\n",
        "        train_loss_save.append(train_loss)\n",
        "        val_loss_save.append(val_loss)\n",
        "\n",
        "        print(f'Training epoch{epoch+1}: ')\n",
        "        print(f'Training Loss: {train_loss:.3f}')\n",
        "        print(f'Validation Loss: {val_loss:.3f}')\n",
        "\n",
        "    print('Training process has finished.')\n",
        "    return train_loss_save, val_loss_save\n"
      ]
    },
    {
      "cell_type": "code",
      "execution_count": 11,
      "metadata": {
        "id": "-rzTccRGSZ5d"
      },
      "outputs": [],
      "source": [
        "class LR(torch.nn.Module):\n",
        "    def __init__(self, input_dim, output_dim=1):\n",
        "        super(LR, self).__init__()\n",
        "        self.linear = torch.nn.Linear(input_dim, output_dim)\n",
        "\n",
        "\n",
        "    def forward(self, x):\n",
        "        flattened = torch.flatten(x, 1)\n",
        "        outputs = torch.sigmoid(self.linear(flattened))\n",
        "        return outputs"
      ]
    },
    {
      "cell_type": "code",
      "execution_count": 12,
      "metadata": {
        "colab": {
          "base_uri": "https://localhost:8080/"
        },
        "id": "7837YtH19TN9",
        "outputId": "afa06263-0b10-414f-9a13-8b081b7d1a13"
      },
      "outputs": [
        {
          "output_type": "execute_result",
          "data": {
            "text/plain": [
              "LR(\n",
              "  (linear): Linear(in_features=3072, out_features=10, bias=True)\n",
              ")"
            ]
          },
          "metadata": {},
          "execution_count": 12
        }
      ],
      "source": [
        "input_shape = train_loader.dataset.data.shape[1]*train_loader.dataset.data.shape[2]*train_loader.dataset.data.shape[3]\n",
        "linear_regression = LR(input_shape, num_classes).to(device)\n",
        "linear_regression.train()"
      ]
    },
    {
      "cell_type": "code",
      "execution_count": 13,
      "metadata": {
        "id": "4iic808B9VXt"
      },
      "outputs": [],
      "source": [
        "optimizer = torch.optim.Adam(linear_regression.parameters(), lr=0.001)\n",
        "loss_fn = torch.nn.CrossEntropyLoss()"
      ]
    },
    {
      "cell_type": "code",
      "execution_count": 14,
      "metadata": {
        "colab": {
          "base_uri": "https://localhost:8080/"
        },
        "id": "CqRhVW0x37cK",
        "outputId": "06d180e2-d1d0-4307-d3c4-f8d86dd92ab5"
      },
      "outputs": [
        {
          "output_type": "stream",
          "name": "stderr",
          "text": [
            "Epoch:   5%|▌         | 1/20 [00:31<09:52, 31.18s/it]"
          ]
        },
        {
          "output_type": "stream",
          "name": "stdout",
          "text": [
            "Training epoch1: \n",
            "Training Loss: 2.059\n",
            "Validation Loss: 2.031\n"
          ]
        },
        {
          "output_type": "stream",
          "name": "stderr",
          "text": [
            "\rEpoch:  10%|█         | 2/20 [00:49<07:06, 23.67s/it]"
          ]
        },
        {
          "output_type": "stream",
          "name": "stdout",
          "text": [
            "Training epoch2: \n",
            "Training Loss: 2.024\n",
            "Validation Loss: 2.020\n"
          ]
        },
        {
          "output_type": "stream",
          "name": "stderr",
          "text": [
            "\rEpoch:  15%|█▌        | 3/20 [01:06<05:52, 20.72s/it]"
          ]
        },
        {
          "output_type": "stream",
          "name": "stdout",
          "text": [
            "Training epoch3: \n",
            "Training Loss: 2.013\n",
            "Validation Loss: 2.014\n"
          ]
        },
        {
          "output_type": "stream",
          "name": "stderr",
          "text": [
            "\rEpoch:  20%|██        | 4/20 [01:23<05:07, 19.21s/it]"
          ]
        },
        {
          "output_type": "stream",
          "name": "stdout",
          "text": [
            "Training epoch4: \n",
            "Training Loss: 2.005\n",
            "Validation Loss: 2.011\n"
          ]
        },
        {
          "output_type": "stream",
          "name": "stderr",
          "text": [
            "\rEpoch:  25%|██▌       | 5/20 [01:44<04:57, 19.84s/it]"
          ]
        },
        {
          "output_type": "stream",
          "name": "stdout",
          "text": [
            "Training epoch5: \n",
            "Training Loss: 2.000\n",
            "Validation Loss: 2.006\n"
          ]
        },
        {
          "output_type": "stream",
          "name": "stderr",
          "text": [
            "\rEpoch:  30%|███       | 6/20 [02:02<04:27, 19.08s/it]"
          ]
        },
        {
          "output_type": "stream",
          "name": "stdout",
          "text": [
            "Training epoch6: \n",
            "Training Loss: 1.995\n",
            "Validation Loss: 2.003\n"
          ]
        },
        {
          "output_type": "stream",
          "name": "stderr",
          "text": [
            "\rEpoch:  35%|███▌      | 7/20 [02:19<04:02, 18.62s/it]"
          ]
        },
        {
          "output_type": "stream",
          "name": "stdout",
          "text": [
            "Training epoch7: \n",
            "Training Loss: 1.991\n",
            "Validation Loss: 2.004\n"
          ]
        },
        {
          "output_type": "stream",
          "name": "stderr",
          "text": [
            "\rEpoch:  40%|████      | 8/20 [02:37<03:39, 18.28s/it]"
          ]
        },
        {
          "output_type": "stream",
          "name": "stdout",
          "text": [
            "Training epoch8: \n",
            "Training Loss: 1.988\n",
            "Validation Loss: 2.000\n"
          ]
        },
        {
          "output_type": "stream",
          "name": "stderr",
          "text": [
            "\rEpoch:  45%|████▌     | 9/20 [02:54<03:15, 17.81s/it]"
          ]
        },
        {
          "output_type": "stream",
          "name": "stdout",
          "text": [
            "Training epoch9: \n",
            "Training Loss: 1.984\n",
            "Validation Loss: 1.999\n"
          ]
        },
        {
          "output_type": "stream",
          "name": "stderr",
          "text": [
            "\rEpoch:  50%|█████     | 10/20 [03:11<02:55, 17.54s/it]"
          ]
        },
        {
          "output_type": "stream",
          "name": "stdout",
          "text": [
            "Training epoch10: \n",
            "Training Loss: 1.981\n",
            "Validation Loss: 1.996\n"
          ]
        },
        {
          "output_type": "stream",
          "name": "stderr",
          "text": [
            "\rEpoch:  55%|█████▌    | 11/20 [03:28<02:36, 17.44s/it]"
          ]
        },
        {
          "output_type": "stream",
          "name": "stdout",
          "text": [
            "Training epoch11: \n",
            "Training Loss: 1.979\n",
            "Validation Loss: 1.993\n"
          ]
        },
        {
          "output_type": "stream",
          "name": "stderr",
          "text": [
            "\rEpoch:  60%|██████    | 12/20 [03:45<02:19, 17.48s/it]"
          ]
        },
        {
          "output_type": "stream",
          "name": "stdout",
          "text": [
            "Training epoch12: \n",
            "Training Loss: 1.976\n",
            "Validation Loss: 1.994\n"
          ]
        },
        {
          "output_type": "stream",
          "name": "stderr",
          "text": [
            "\rEpoch:  65%|██████▌   | 13/20 [04:02<02:00, 17.21s/it]"
          ]
        },
        {
          "output_type": "stream",
          "name": "stdout",
          "text": [
            "Training epoch13: \n",
            "Training Loss: 1.973\n",
            "Validation Loss: 1.990\n"
          ]
        },
        {
          "output_type": "stream",
          "name": "stderr",
          "text": [
            "\rEpoch:  70%|███████   | 14/20 [04:18<01:41, 16.94s/it]"
          ]
        },
        {
          "output_type": "stream",
          "name": "stdout",
          "text": [
            "Training epoch14: \n",
            "Training Loss: 1.971\n",
            "Validation Loss: 1.988\n"
          ]
        },
        {
          "output_type": "stream",
          "name": "stderr",
          "text": [
            "\rEpoch:  75%|███████▌  | 15/20 [04:35<01:24, 16.90s/it]"
          ]
        },
        {
          "output_type": "stream",
          "name": "stdout",
          "text": [
            "Training epoch15: \n",
            "Training Loss: 1.969\n",
            "Validation Loss: 1.995\n"
          ]
        },
        {
          "output_type": "stream",
          "name": "stderr",
          "text": [
            "\rEpoch:  80%|████████  | 16/20 [04:52<01:07, 16.97s/it]"
          ]
        },
        {
          "output_type": "stream",
          "name": "stdout",
          "text": [
            "Training epoch16: \n",
            "Training Loss: 1.968\n",
            "Validation Loss: 1.990\n"
          ]
        },
        {
          "output_type": "stream",
          "name": "stderr",
          "text": [
            "\rEpoch:  85%|████████▌ | 17/20 [05:09<00:50, 16.83s/it]"
          ]
        },
        {
          "output_type": "stream",
          "name": "stdout",
          "text": [
            "Training epoch17: \n",
            "Training Loss: 1.967\n",
            "Validation Loss: 1.991\n"
          ]
        },
        {
          "output_type": "stream",
          "name": "stderr",
          "text": [
            "\rEpoch:  90%|█████████ | 18/20 [05:26<00:33, 16.81s/it]"
          ]
        },
        {
          "output_type": "stream",
          "name": "stdout",
          "text": [
            "Training epoch18: \n",
            "Training Loss: 1.966\n",
            "Validation Loss: 1.986\n"
          ]
        },
        {
          "output_type": "stream",
          "name": "stderr",
          "text": [
            "\rEpoch:  95%|█████████▌| 19/20 [05:42<00:16, 16.79s/it]"
          ]
        },
        {
          "output_type": "stream",
          "name": "stdout",
          "text": [
            "Training epoch19: \n",
            "Training Loss: 1.964\n",
            "Validation Loss: 1.986\n"
          ]
        },
        {
          "output_type": "stream",
          "name": "stderr",
          "text": [
            "Epoch: 100%|██████████| 20/20 [05:59<00:00, 17.96s/it]"
          ]
        },
        {
          "output_type": "stream",
          "name": "stdout",
          "text": [
            "Training epoch20: \n",
            "Training Loss: 1.961\n",
            "Validation Loss: 1.985\n",
            "Training process has finished.\n"
          ]
        },
        {
          "output_type": "stream",
          "name": "stderr",
          "text": [
            "\n"
          ]
        }
      ],
      "source": [
        "num_epochs = 20\n",
        "train_loss, val_loss = runtraining (linear_regression, optimizer, loss_fn, device, num_epochs, train_loader, test_loader)\n"
      ]
    },
    {
      "cell_type": "code",
      "execution_count": 15,
      "metadata": {
        "colab": {
          "base_uri": "https://localhost:8080/",
          "height": 472
        },
        "id": "3VcktZrg73iS",
        "outputId": "877429c5-7b7d-441a-8416-bf1c197bb25a"
      },
      "outputs": [
        {
          "output_type": "display_data",
          "data": {
            "text/plain": [
              "<Figure size 640x480 with 1 Axes>"
            ],
            "image/png": "[encoded data removed]"
          },
          "metadata": {}
        }
      ],
      "source": [
        "plt.plot(train_loss)\n",
        "plt.plot(val_loss)\n",
        "plt.title('LR model loss')\n",
        "plt.ylabel('loss')\n",
        "plt.xlabel('epoch')\n",
        "plt.legend(['train', 'val'], loc='upper right')\n",
        "plt.show()"
      ]
    },
    {
      "cell_type": "code",
      "execution_count": 16,
      "metadata": {
        "id": "ZiVntV32Siy8"
      },
      "outputs": [],
      "source": [
        "class MLP(torch.nn.Module):\n",
        "      def __init__(self, input_dim, output_dim):\n",
        "          super(MLP, self).__init__()\n",
        "          self.Layers=nn.Sequential(\n",
        "              nn.Linear(input_dim,1650),\n",
        "              nn.ReLU(),\n",
        "              nn.Linear(1650,512),\n",
        "              nn.ReLU(),\n",
        "              nn.Linear(512,138),\n",
        "              nn.ReLU(),\n",
        "              nn.Linear(138,output_dim),\n",
        "\n",
        "          )\n",
        "      def forward(self,xb):\n",
        "          xb=torch.flatten(xb,1)\n",
        "          xb=self.Layers(xb)\n",
        "          return xb"
      ]
    },
    {
      "cell_type": "code",
      "execution_count": 17,
      "metadata": {
        "colab": {
          "base_uri": "https://localhost:8080/"
        },
        "id": "8k420ERrUljL",
        "outputId": "1ab61d72-851c-4fce-abfb-28bcec32bba1"
      },
      "outputs": [
        {
          "output_type": "execute_result",
          "data": {
            "text/plain": [
              "MLP(\n",
              "  (Layers): Sequential(\n",
              "    (0): Linear(in_features=3072, out_features=1650, bias=True)\n",
              "    (1): ReLU()\n",
              "    (2): Linear(in_features=1650, out_features=512, bias=True)\n",
              "    (3): ReLU()\n",
              "    (4): Linear(in_features=512, out_features=138, bias=True)\n",
              "    (5): ReLU()\n",
              "    (6): Linear(in_features=138, out_features=10, bias=True)\n",
              "  )\n",
              ")"
            ]
          },
          "metadata": {},
          "execution_count": 17
        }
      ],
      "source": [
        "MLP=MLP(input_shape,num_classes).to(device)\n",
        "MLP.train()"
      ]
    },
    {
      "cell_type": "code",
      "execution_count": 18,
      "metadata": {
        "id": "Eksw_3gfVZEf"
      },
      "outputs": [],
      "source": [
        "optimizer = torch.optim.Adam(MLP.parameters(), lr=0.001, weight_decay=0.0005)\n",
        "loss_fn = torch.nn.CrossEntropyLoss()"
      ]
    },
    {
      "cell_type": "code",
      "execution_count": 19,
      "metadata": {
        "id": "XvWL9PbIVaZP",
        "colab": {
          "base_uri": "https://localhost:8080/"
        },
        "outputId": "778658aa-63d6-43b0-e2e1-55303b6cfc2a"
      },
      "outputs": [
        {
          "output_type": "stream",
          "name": "stderr",
          "text": [
            "Epoch:   5%|▌         | 1/20 [00:17<05:41, 17.96s/it]"
          ]
        },
        {
          "output_type": "stream",
          "name": "stdout",
          "text": [
            "Training epoch1: \n",
            "Training Loss: 1.676\n",
            "Validation Loss: 1.525\n"
          ]
        },
        {
          "output_type": "stream",
          "name": "stderr",
          "text": [
            "\rEpoch:  10%|█         | 2/20 [00:35<05:19, 17.77s/it]"
          ]
        },
        {
          "output_type": "stream",
          "name": "stdout",
          "text": [
            "Training epoch2: \n",
            "Training Loss: 1.500\n",
            "Validation Loss: 1.480\n"
          ]
        },
        {
          "output_type": "stream",
          "name": "stderr",
          "text": [
            "\rEpoch:  15%|█▌        | 3/20 [00:52<04:54, 17.35s/it]"
          ]
        },
        {
          "output_type": "stream",
          "name": "stdout",
          "text": [
            "Training epoch3: \n",
            "Training Loss: 1.437\n",
            "Validation Loss: 1.440\n"
          ]
        },
        {
          "output_type": "stream",
          "name": "stderr",
          "text": [
            "\rEpoch:  20%|██        | 4/20 [01:10<04:39, 17.46s/it]"
          ]
        },
        {
          "output_type": "stream",
          "name": "stdout",
          "text": [
            "Training epoch4: \n",
            "Training Loss: 1.386\n",
            "Validation Loss: 1.409\n"
          ]
        },
        {
          "output_type": "stream",
          "name": "stderr",
          "text": [
            "\rEpoch:  25%|██▌       | 5/20 [01:26<04:18, 17.21s/it]"
          ]
        },
        {
          "output_type": "stream",
          "name": "stdout",
          "text": [
            "Training epoch5: \n",
            "Training Loss: 1.347\n",
            "Validation Loss: 1.364\n"
          ]
        },
        {
          "output_type": "stream",
          "name": "stderr",
          "text": [
            "\rEpoch:  30%|███       | 6/20 [01:43<03:58, 17.04s/it]"
          ]
        },
        {
          "output_type": "stream",
          "name": "stdout",
          "text": [
            "Training epoch6: \n",
            "Training Loss: 1.312\n",
            "Validation Loss: 1.360\n"
          ]
        },
        {
          "output_type": "stream",
          "name": "stderr",
          "text": [
            "\rEpoch:  35%|███▌      | 7/20 [02:01<03:43, 17.22s/it]"
          ]
        },
        {
          "output_type": "stream",
          "name": "stdout",
          "text": [
            "Training epoch7: \n",
            "Training Loss: 1.284\n",
            "Validation Loss: 1.345\n"
          ]
        },
        {
          "output_type": "stream",
          "name": "stderr",
          "text": [
            "\rEpoch:  40%|████      | 8/20 [02:17<03:24, 17.04s/it]"
          ]
        },
        {
          "output_type": "stream",
          "name": "stdout",
          "text": [
            "Training epoch8: \n",
            "Training Loss: 1.253\n",
            "Validation Loss: 1.316\n"
          ]
        },
        {
          "output_type": "stream",
          "name": "stderr",
          "text": [
            "\rEpoch:  45%|████▌     | 9/20 [02:34<03:06, 16.91s/it]"
          ]
        },
        {
          "output_type": "stream",
          "name": "stdout",
          "text": [
            "Training epoch9: \n",
            "Training Loss: 1.234\n",
            "Validation Loss: 1.324\n"
          ]
        },
        {
          "output_type": "stream",
          "name": "stderr",
          "text": [
            "\rEpoch:  50%|█████     | 10/20 [02:52<02:51, 17.13s/it]"
          ]
        },
        {
          "output_type": "stream",
          "name": "stdout",
          "text": [
            "Training epoch10: \n",
            "Training Loss: 1.211\n",
            "Validation Loss: 1.296\n"
          ]
        },
        {
          "output_type": "stream",
          "name": "stderr",
          "text": [
            "\rEpoch:  55%|█████▌    | 11/20 [03:08<02:32, 16.92s/it]"
          ]
        },
        {
          "output_type": "stream",
          "name": "stdout",
          "text": [
            "Training epoch11: \n",
            "Training Loss: 1.187\n",
            "Validation Loss: 1.318\n"
          ]
        },
        {
          "output_type": "stream",
          "name": "stderr",
          "text": [
            "\rEpoch:  60%|██████    | 12/20 [03:25<02:14, 16.84s/it]"
          ]
        },
        {
          "output_type": "stream",
          "name": "stdout",
          "text": [
            "Training epoch12: \n",
            "Training Loss: 1.168\n",
            "Validation Loss: 1.293\n"
          ]
        },
        {
          "output_type": "stream",
          "name": "stderr",
          "text": [
            "\rEpoch:  65%|██████▌   | 13/20 [03:42<01:59, 17.02s/it]"
          ]
        },
        {
          "output_type": "stream",
          "name": "stdout",
          "text": [
            "Training epoch13: \n",
            "Training Loss: 1.145\n",
            "Validation Loss: 1.293\n"
          ]
        },
        {
          "output_type": "stream",
          "name": "stderr",
          "text": [
            "\rEpoch:  70%|███████   | 14/20 [03:59<01:41, 16.89s/it]"
          ]
        },
        {
          "output_type": "stream",
          "name": "stdout",
          "text": [
            "Training epoch14: \n",
            "Training Loss: 1.133\n",
            "Validation Loss: 1.294\n"
          ]
        },
        {
          "output_type": "stream",
          "name": "stderr",
          "text": [
            "\rEpoch:  75%|███████▌  | 15/20 [04:16<01:24, 16.89s/it]"
          ]
        },
        {
          "output_type": "stream",
          "name": "stdout",
          "text": [
            "Training epoch15: \n",
            "Training Loss: 1.119\n",
            "Validation Loss: 1.297\n"
          ]
        },
        {
          "output_type": "stream",
          "name": "stderr",
          "text": [
            "\rEpoch:  80%|████████  | 16/20 [04:33<01:08, 17.05s/it]"
          ]
        },
        {
          "output_type": "stream",
          "name": "stdout",
          "text": [
            "Training epoch16: \n",
            "Training Loss: 1.101\n",
            "Validation Loss: 1.351\n"
          ]
        },
        {
          "output_type": "stream",
          "name": "stderr",
          "text": [
            "\rEpoch:  85%|████████▌ | 17/20 [04:50<00:50, 16.94s/it]"
          ]
        },
        {
          "output_type": "stream",
          "name": "stdout",
          "text": [
            "Training epoch17: \n",
            "Training Loss: 1.089\n",
            "Validation Loss: 1.294\n"
          ]
        },
        {
          "output_type": "stream",
          "name": "stderr",
          "text": [
            "\rEpoch:  90%|█████████ | 18/20 [05:08<00:34, 17.45s/it]"
          ]
        },
        {
          "output_type": "stream",
          "name": "stdout",
          "text": [
            "Training epoch18: \n",
            "Training Loss: 1.070\n",
            "Validation Loss: 1.279\n"
          ]
        },
        {
          "output_type": "stream",
          "name": "stderr",
          "text": [
            "\rEpoch:  95%|█████████▌| 19/20 [05:25<00:17, 17.24s/it]"
          ]
        },
        {
          "output_type": "stream",
          "name": "stdout",
          "text": [
            "Training epoch19: \n",
            "Training Loss: 1.065\n",
            "Validation Loss: 1.263\n"
          ]
        },
        {
          "output_type": "stream",
          "name": "stderr",
          "text": [
            "Epoch: 100%|██████████| 20/20 [05:42<00:00, 17.12s/it]"
          ]
        },
        {
          "output_type": "stream",
          "name": "stdout",
          "text": [
            "Training epoch20: \n",
            "Training Loss: 1.045\n",
            "Validation Loss: 1.294\n",
            "Training process has finished.\n"
          ]
        },
        {
          "output_type": "stream",
          "name": "stderr",
          "text": [
            "\n"
          ]
        }
      ],
      "source": [
        "num_epochs = 20\n",
        "train_loss, val_loss = runtraining (MLP, optimizer, loss_fn, device, num_epochs, train_loader, test_loader)\n"
      ]
    },
    {
      "cell_type": "code",
      "execution_count": 20,
      "metadata": {
        "id": "sfodlJOyVvF0",
        "colab": {
          "base_uri": "https://localhost:8080/",
          "height": 472
        },
        "outputId": "743bc9b7-f400-40d6-be39-caa21e302eb7"
      },
      "outputs": [
        {
          "output_type": "display_data",
          "data": {
            "text/plain": [
              "<Figure size 640x480 with 1 Axes>"
            ],
            "image/png": "[encoded data removed]"
          },
          "metadata": {}
        }
      ],
      "source": [
        "plt.plot(train_loss)\n",
        "plt.plot(val_loss)\n",
        "plt.title('MLP model loss with L2 regularization')\n",
        "plt.ylabel('loss')\n",
        "plt.xlabel('epoch')\n",
        "plt.legend(['train', 'val'], loc='upper right')\n",
        "plt.show()"
      ]
    },
    {
      "cell_type": "code",
      "execution_count": 21,
      "metadata": {
        "id": "FSOJY3wMnrxV"
      },
      "outputs": [],
      "source": [
        "def predic_dl(model,data_loader):\n",
        "    model.eval()\n",
        "    y_pred=[]\n",
        "    y_true=[]\n",
        "\n",
        "    for i,(images,labels) in enumerate(data_loader):\n",
        "        images=images.to(device)\n",
        "\n",
        "        x=model(images)\n",
        "        value,pred=torch.max(x,1)\n",
        "        pred=pred.data.cpu()\n",
        "\n",
        "        y_pred.extend(list(pred.numpy()))\n",
        "        y_true.extend(list(labels.numpy()))\n",
        "    return np.array(y_pred), np.array(y_true)"
      ]
    },
    {
      "cell_type": "code",
      "execution_count": 22,
      "metadata": {
        "id": "LPDaNzsFlznT",
        "colab": {
          "base_uri": "https://localhost:8080/",
          "height": 430
        },
        "outputId": "4985ec27-02c8-42fe-cec2-ab7f3af750af"
      },
      "outputs": [
        {
          "output_type": "display_data",
          "data": {
            "text/plain": [
              "<Figure size 640x480 with 2 Axes>"
            ],
            "image/png": "[encoded data removed]"
          },
          "metadata": {}
        }
      ],
      "source": [
        "y_pred, y_true = predic_dl(MLP, test_loader)\n",
        "conf_mat =confusion_matrix(y_true=y_true , y_pred=y_pred)\n",
        "sns.heatmap(conf_mat, annot=True, fmt='d',cmap='Blues')\n",
        "plt.show()"
      ]
    },
    {
      "cell_type": "code",
      "execution_count": 23,
      "metadata": {
        "id": "l6_Ict5KV0JC"
      },
      "outputs": [],
      "source": [
        "class CNN(torch.nn.Module):\n",
        "      def __init__(self, n_classes, in_channels=3):\n",
        "          super(CNN, self).__init__()\n",
        "          self.Layers=nn.Sequential(\n",
        "              nn.Conv2d(in_channels=in_channels, out_channels=6, kernel_size=5, stride=1),\n",
        "              nn.ReLU(),\n",
        "              nn.AvgPool2d(kernel_size=2),\n",
        "              nn.Conv2d(in_channels=6, out_channels=16, kernel_size=5, stride=1),\n",
        "              nn.ReLU(),\n",
        "              nn.AvgPool2d(kernel_size=2),\n",
        "              nn.Conv2d(in_channels=16, out_channels=120, kernel_size=5, stride=1),\n",
        "              nn.ReLU(),\n",
        "          )\n",
        "\n",
        "          self.classifier=nn.Sequential(\n",
        "              nn.Linear(in_features=120, out_features=84),\n",
        "              nn.ReLU(),\n",
        "              nn.Linear(in_features=84, out_features=n_classes),\n",
        "          )\n",
        "\n",
        "      def forward(self,xb):\n",
        "          xb=self.Layers(xb)\n",
        "          xb=torch.flatten(xb,1)\n",
        "          xb=self.classifier(xb)\n",
        "          return xb\n"
      ]
    },
    {
      "cell_type": "code",
      "execution_count": 24,
      "metadata": {
        "id": "IPRDI5smYKsr",
        "colab": {
          "base_uri": "https://localhost:8080/"
        },
        "outputId": "4a907016-c7c4-4c6c-e601-7052f2ce2771"
      },
      "outputs": [
        {
          "output_type": "execute_result",
          "data": {
            "text/plain": [
              "CNN(\n",
              "  (Layers): Sequential(\n",
              "    (0): Conv2d(3, 6, kernel_size=(5, 5), stride=(1, 1))\n",
              "    (1): ReLU()\n",
              "    (2): AvgPool2d(kernel_size=2, stride=2, padding=0)\n",
              "    (3): Conv2d(6, 16, kernel_size=(5, 5), stride=(1, 1))\n",
              "    (4): ReLU()\n",
              "    (5): AvgPool2d(kernel_size=2, stride=2, padding=0)\n",
              "    (6): Conv2d(16, 120, kernel_size=(5, 5), stride=(1, 1))\n",
              "    (7): ReLU()\n",
              "  )\n",
              "  (classifier): Sequential(\n",
              "    (0): Linear(in_features=120, out_features=84, bias=True)\n",
              "    (1): ReLU()\n",
              "    (2): Linear(in_features=84, out_features=10, bias=True)\n",
              "  )\n",
              ")"
            ]
          },
          "metadata": {},
          "execution_count": 24
        }
      ],
      "source": [
        "CNN=CNN(num_classes,in_channels=3).to(device)\n",
        "CNN.train()"
      ]
    },
    {
      "cell_type": "code",
      "execution_count": 25,
      "metadata": {
        "id": "WO3GDg2umQTV",
        "colab": {
          "base_uri": "https://localhost:8080/"
        },
        "outputId": "92017bfb-0068-4860-8f04-a1de24da94dc"
      },
      "outputs": [
        {
          "output_type": "stream",
          "name": "stderr",
          "text": [
            "Epoch:   5%|▌         | 1/20 [00:18<05:48, 18.37s/it]"
          ]
        },
        {
          "output_type": "stream",
          "name": "stdout",
          "text": [
            "Training epoch1: \n",
            "Training Loss: 1.828\n",
            "Validation Loss: 1.571\n"
          ]
        },
        {
          "output_type": "stream",
          "name": "stderr",
          "text": [
            "\rEpoch:  10%|█         | 2/20 [00:36<05:28, 18.28s/it]"
          ]
        },
        {
          "output_type": "stream",
          "name": "stdout",
          "text": [
            "Training epoch2: \n",
            "Training Loss: 1.531\n",
            "Validation Loss: 1.462\n"
          ]
        },
        {
          "output_type": "stream",
          "name": "stderr",
          "text": [
            "\rEpoch:  15%|█▌        | 3/20 [00:54<05:08, 18.16s/it]"
          ]
        },
        {
          "output_type": "stream",
          "name": "stdout",
          "text": [
            "Training epoch3: \n",
            "Training Loss: 1.431\n",
            "Validation Loss: 1.376\n"
          ]
        },
        {
          "output_type": "stream",
          "name": "stderr",
          "text": [
            "\rEpoch:  20%|██        | 4/20 [01:12<04:46, 17.88s/it]"
          ]
        },
        {
          "output_type": "stream",
          "name": "stdout",
          "text": [
            "Training epoch4: \n",
            "Training Loss: 1.363\n",
            "Validation Loss: 1.339\n"
          ]
        },
        {
          "output_type": "stream",
          "name": "stderr",
          "text": [
            "\rEpoch:  25%|██▌       | 5/20 [01:30<04:30, 18.04s/it]"
          ]
        },
        {
          "output_type": "stream",
          "name": "stdout",
          "text": [
            "Training epoch5: \n",
            "Training Loss: 1.308\n",
            "Validation Loss: 1.287\n"
          ]
        },
        {
          "output_type": "stream",
          "name": "stderr",
          "text": [
            "\rEpoch:  30%|███       | 6/20 [01:48<04:10, 17.92s/it]"
          ]
        },
        {
          "output_type": "stream",
          "name": "stdout",
          "text": [
            "Training epoch6: \n",
            "Training Loss: 1.263\n",
            "Validation Loss: 1.250\n"
          ]
        },
        {
          "output_type": "stream",
          "name": "stderr",
          "text": [
            "\rEpoch:  35%|███▌      | 7/20 [02:06<03:55, 18.15s/it]"
          ]
        },
        {
          "output_type": "stream",
          "name": "stdout",
          "text": [
            "Training epoch7: \n",
            "Training Loss: 1.223\n",
            "Validation Loss: 1.222\n"
          ]
        },
        {
          "output_type": "stream",
          "name": "stderr",
          "text": [
            "\rEpoch:  40%|████      | 8/20 [02:24<03:35, 17.95s/it]"
          ]
        },
        {
          "output_type": "stream",
          "name": "stdout",
          "text": [
            "Training epoch8: \n",
            "Training Loss: 1.193\n",
            "Validation Loss: 1.190\n"
          ]
        },
        {
          "output_type": "stream",
          "name": "stderr",
          "text": [
            "\rEpoch:  45%|████▌     | 9/20 [02:42<03:19, 18.13s/it]"
          ]
        },
        {
          "output_type": "stream",
          "name": "stdout",
          "text": [
            "Training epoch9: \n",
            "Training Loss: 1.163\n",
            "Validation Loss: 1.173\n"
          ]
        },
        {
          "output_type": "stream",
          "name": "stderr",
          "text": [
            "\rEpoch:  50%|█████     | 10/20 [03:00<02:59, 18.00s/it]"
          ]
        },
        {
          "output_type": "stream",
          "name": "stdout",
          "text": [
            "Training epoch10: \n",
            "Training Loss: 1.133\n",
            "Validation Loss: 1.147\n"
          ]
        },
        {
          "output_type": "stream",
          "name": "stderr",
          "text": [
            "\rEpoch:  55%|█████▌    | 11/20 [03:18<02:42, 18.03s/it]"
          ]
        },
        {
          "output_type": "stream",
          "name": "stdout",
          "text": [
            "Training epoch11: \n",
            "Training Loss: 1.111\n",
            "Validation Loss: 1.134\n"
          ]
        },
        {
          "output_type": "stream",
          "name": "stderr",
          "text": [
            "\rEpoch:  60%|██████    | 12/20 [03:37<02:26, 18.27s/it]"
          ]
        },
        {
          "output_type": "stream",
          "name": "stdout",
          "text": [
            "Training epoch12: \n",
            "Training Loss: 1.084\n",
            "Validation Loss: 1.154\n"
          ]
        },
        {
          "output_type": "stream",
          "name": "stderr",
          "text": [
            "\rEpoch:  65%|██████▌   | 13/20 [03:56<02:09, 18.46s/it]"
          ]
        },
        {
          "output_type": "stream",
          "name": "stdout",
          "text": [
            "Training epoch13: \n",
            "Training Loss: 1.061\n",
            "Validation Loss: 1.092\n"
          ]
        },
        {
          "output_type": "stream",
          "name": "stderr",
          "text": [
            "\rEpoch:  70%|███████   | 14/20 [04:19<02:00, 20.05s/it]"
          ]
        },
        {
          "output_type": "stream",
          "name": "stdout",
          "text": [
            "Training epoch14: \n",
            "Training Loss: 1.041\n",
            "Validation Loss: 1.079\n"
          ]
        },
        {
          "output_type": "stream",
          "name": "stderr",
          "text": [
            "\rEpoch:  75%|███████▌  | 15/20 [04:42<01:44, 20.82s/it]"
          ]
        },
        {
          "output_type": "stream",
          "name": "stdout",
          "text": [
            "Training epoch15: \n",
            "Training Loss: 1.019\n",
            "Validation Loss: 1.058\n"
          ]
        },
        {
          "output_type": "stream",
          "name": "stderr",
          "text": [
            "\rEpoch:  80%|████████  | 16/20 [05:00<01:19, 19.92s/it]"
          ]
        },
        {
          "output_type": "stream",
          "name": "stdout",
          "text": [
            "Training epoch16: \n",
            "Training Loss: 1.003\n",
            "Validation Loss: 1.072\n"
          ]
        },
        {
          "output_type": "stream",
          "name": "stderr",
          "text": [
            "\rEpoch:  85%|████████▌ | 17/20 [05:19<00:58, 19.56s/it]"
          ]
        },
        {
          "output_type": "stream",
          "name": "stdout",
          "text": [
            "Training epoch17: \n",
            "Training Loss: 0.986\n",
            "Validation Loss: 1.045\n"
          ]
        },
        {
          "output_type": "stream",
          "name": "stderr",
          "text": [
            "\rEpoch:  90%|█████████ | 18/20 [05:36<00:38, 19.03s/it]"
          ]
        },
        {
          "output_type": "stream",
          "name": "stdout",
          "text": [
            "Training epoch18: \n",
            "Training Loss: 0.964\n",
            "Validation Loss: 1.037\n"
          ]
        },
        {
          "output_type": "stream",
          "name": "stderr",
          "text": [
            "\rEpoch:  95%|█████████▌| 19/20 [05:58<00:19, 19.83s/it]"
          ]
        },
        {
          "output_type": "stream",
          "name": "stdout",
          "text": [
            "Training epoch19: \n",
            "Training Loss: 0.948\n",
            "Validation Loss: 1.036\n"
          ]
        },
        {
          "output_type": "stream",
          "name": "stderr",
          "text": [
            "Epoch: 100%|██████████| 20/20 [06:25<00:00, 19.29s/it]"
          ]
        },
        {
          "output_type": "stream",
          "name": "stdout",
          "text": [
            "Training epoch20: \n",
            "Training Loss: 0.935\n",
            "Validation Loss: 1.028\n",
            "Training process has finished.\n"
          ]
        },
        {
          "output_type": "stream",
          "name": "stderr",
          "text": [
            "\n"
          ]
        }
      ],
      "source": [
        "loss_fn = torch.nn.CrossEntropyLoss()\n",
        "optimizer = torch.optim.Adam(CNN.parameters(), lr = 0.001)\n",
        "\n",
        "num_epochs=20\n",
        "train_losses, val_losses = runtraining (CNN, optimizer, loss_fn, device, num_epochs, train_loader, test_loader)"
      ]
    },
    {
      "cell_type": "code",
      "execution_count": 26,
      "metadata": {
        "id": "vrQInsbrmLf-",
        "colab": {
          "base_uri": "https://localhost:8080/",
          "height": 472
        },
        "outputId": "6f860a70-272e-49eb-ae57-e4ad8221668e"
      },
      "outputs": [
        {
          "output_type": "display_data",
          "data": {
            "text/plain": [
              "<Figure size 640x480 with 1 Axes>"
            ],
            "image/png": "[encoded data removed]"
          },
          "metadata": {}
        }
      ],
      "source": [
        "plt.plot(train_losses)\n",
        "plt.plot(val_losses)\n",
        "plt.title('CNN model loss')\n",
        "plt.ylabel('loss')\n",
        "plt.xlabel('epoch')\n",
        "plt.legend(['train', 'val'], loc='upper right')\n",
        "plt.show()"
      ]
    },
    {
      "cell_type": "code",
      "execution_count": 27,
      "metadata": {
        "id": "_nje8Nwxhcqi"
      },
      "outputs": [],
      "source": [
        "y_pred, y_true = predic_dl(CNN, test_loader)"
      ]
    },
    {
      "cell_type": "code",
      "execution_count": 28,
      "metadata": {
        "id": "tJeS47AeksZo",
        "colab": {
          "base_uri": "https://localhost:8080/",
          "height": 430
        },
        "outputId": "b8620427-d5e7-435c-938b-d2a46a59318d"
      },
      "outputs": [
        {
          "output_type": "display_data",
          "data": {
            "text/plain": [
              "<Figure size 640x480 with 2 Axes>"
            ],
            "image/png": "[encoded data removed]"
          },
          "metadata": {}
        }
      ],
      "source": [
        "conf_mat =confusion_matrix(y_true=y_true , y_pred=y_pred)\n",
        "sns.heatmap(conf_mat, annot=True, fmt='d',cmap='Blues')\n",
        "plt.show()"
      ]
    }
  ],
  "metadata": {
    "accelerator": "GPU",
    "colab": {
      "gpuType": "T4",
      "provenance": [],
      "authorship_tag": "ABX9TyP/6AU8S2r/rfhwRRoRA5hj",
      "include_colab_link": true
    },
    "kernelspec": {
      "display_name": "Python 3",
      "name": "python3"
    },
    "language_info": {
      "name": "python"
    }
  },
  "nbformat": 4,
  "nbformat_minor": 0
}